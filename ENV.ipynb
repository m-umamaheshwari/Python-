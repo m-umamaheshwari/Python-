{
  "nbformat": 4,
  "nbformat_minor": 0,
  "metadata": {
    "colab": {
      "private_outputs": true,
      "provenance": [],
      "authorship_tag": "ABX9TyMp6vpU7jSEWDyNAGZ+4Z49",
      "include_colab_link": true
    },
    "kernelspec": {
      "name": "python3",
      "display_name": "Python 3"
    },
    "language_info": {
      "name": "python"
    }
  },
  "cells": [
    {
      "cell_type": "markdown",
      "metadata": {
        "id": "view-in-github",
        "colab_type": "text"
      },
      "source": [
        "<a href=\"https://colab.research.google.com/github/m-umamaheshwari/Python-/blob/main/ENV.ipynb\" target=\"_parent\"><img src=\"https://colab.research.google.com/assets/colab-badge.svg\" alt=\"Open In Colab\"/></a>"
      ]
    },
    {
      "cell_type": "code",
      "source": [
        "pip install python-dotenv\n"
      ],
      "metadata": {
        "id": "-Ux65NH99eya"
      },
      "execution_count": null,
      "outputs": []
    },
    {
      "cell_type": "code",
      "source": [
        "! python -m pip install --upgrade pip"
      ],
      "metadata": {
        "id": "okWnd_cvISTv"
      },
      "execution_count": null,
      "outputs": []
    },
    {
      "cell_type": "code",
      "source": [
        "key_name = \"uma\"\n"
      ],
      "metadata": {
        "id": "JEpza7TcIciw"
      },
      "execution_count": null,
      "outputs": []
    },
    {
      "cell_type": "code",
      "source": [
        "# importing os module for environment variables\n",
        "import os\n",
        "# importing necessary functions from dotenv library\n",
        "from dotenv import load_dotenv, dotenv_values\n",
        "# importing os module for environment variables\n",
        "import os\n",
        "# importing necessary functions from dotenv library\n",
        "from dotenv import load_dotenv, dotenv_values\n",
        "# loading variables from .env file\n",
        "load_dotenv()\n",
        "def MY_KEY():\n",
        "    pass\n",
        "\n",
        "print(os.getenv(\"MY_KEY\"))\n",
        "\n",
        "# accessing and printing value\n",
        "print(os.getenv(\"MY_KEY\"))\n",
        "MY_KEY()\n",
        "print(os.getenv(MY_KEY))\n",
        "\n",
        "# accessing and printing value\n",
        "print(os.getenv(MY_KEY))\n",
        "MY_KEY()\n"
      ],
      "metadata": {
        "id": "Tlfb3O6EKheG"
      },
      "execution_count": null,
      "outputs": []
    },
    {
      "source": [
        "print(os.getenv(MY_KEY))"
      ],
      "cell_type": "code",
      "metadata": {
        "id": "4vHmc7_GTXKV"
      },
      "execution_count": null,
      "outputs": []
    },
    {
      "source": [
        "def MY_KEY():\n",
        "    pass"
      ],
      "cell_type": "code",
      "metadata": {
        "id": "I9h9M0VFTX7z"
      },
      "execution_count": null,
      "outputs": []
    },
    {
      "source": [
        "# importing os module for environment variables\n",
        "import os\n",
        "# importing necessary functions from dotenv library\n",
        "from dotenv import load_dotenv, dotenv_values\n",
        "# importing os module for environment variables\n",
        "import os\n",
        "# importing necessary functions from dotenv library\n",
        "from dotenv import load_dotenv, dotenv_values\n",
        "# loading variables from .env file\n",
        "load_dotenv()\n",
        "def MY_KEY():\n",
        "    pass\n",
        "\n",
        "print(os.getenv(\"MY_KEY\"))\n",
        "\n",
        "# accessing and printing value\n",
        "print(os.getenv(\"MY_KEY\"))\n",
        "MY_KEY()\n",
        "# Use \"MY_KEY\" (string) instead of MY_KEY (function)\n",
        "print(os.getenv(\"MY_KEY\")) # Changed this line\n",
        "\n",
        "# accessing and printing value\n",
        "# Use \"MY_KEY\" (string) instead of MY_KEY (function)\n",
        "print(os.getenv(\"MY_KEY\")) # Changed this line\n",
        "MY_KEY()"
      ],
      "cell_type": "code",
      "metadata": {
        "id": "gXGCx-QvTaK3"
      },
      "execution_count": null,
      "outputs": []
    },
    {
      "cell_type": "code",
      "source": [],
      "metadata": {
        "id": "DJHnlrImTPuv"
      },
      "execution_count": null,
      "outputs": []
    }
  ]
}