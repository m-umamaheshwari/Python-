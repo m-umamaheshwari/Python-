{
  "nbformat": 4,
  "nbformat_minor": 0,
  "metadata": {
    "colab": {
      "provenance": [],
      "authorship_tag": "ABX9TyPpkI2NgnQdu4N+Hq7QVhAQ",
      "include_colab_link": true
    },
    "kernelspec": {
      "name": "python3",
      "display_name": "Python 3"
    },
    "language_info": {
      "name": "python"
    }
  },
  "cells": [
    {
      "cell_type": "markdown",
      "metadata": {
        "id": "view-in-github",
        "colab_type": "text"
      },
      "source": [
        "<a href=\"https://colab.research.google.com/github/m-umamaheshwari/Python-/blob/main/API_Key.ipynb\" target=\"_parent\"><img src=\"https://colab.research.google.com/assets/colab-badge.svg\" alt=\"Open In Colab\"/></a>"
      ]
    },
    {
      "cell_type": "code",
      "source": [
        "-pip install python-dotenv\n"
      ],
      "metadata": {
        "colab": {
          "base_uri": "https://localhost:8080/"
        },
        "id": "GpX82czDedfW",
        "outputId": "288e5bcb-0dd7-48fe-e2e2-42d3a538ca49"
      },
      "execution_count": 16,
      "outputs": [
        {
          "output_type": "stream",
          "name": "stdout",
          "text": [
            "Requirement already satisfied: python-dotenv in /usr/local/lib/python3.11/dist-packages (1.0.1)\n"
          ]
        }
      ]
    },
    {
      "cell_type": "code",
      "source": [
        "# importing os module for environment variables\n",
        "import os\n",
        "# importing necessary functions from dotenv library\n",
        "from dotenv import load_dotenv, dotenv_values\n",
        "# loading variables from .env file\n",
        "load_dotenv()\n",
        "# accessing and printing value\n",
        "MY_KEY = \"kishankaushik12353\"\n",
        "\n",
        "print(os.getenv( MY_KEY))"
      ],
      "metadata": {
        "colab": {
          "base_uri": "https://localhost:8080/"
        },
        "id": "QTUKoZRVpIc1",
        "outputId": "8e665094-a5cc-45ea-cf5d-35670c2a5cc6"
      },
      "execution_count": 25,
      "outputs": [
        {
          "output_type": "stream",
          "name": "stdout",
          "text": [
            "None\n"
          ]
        }
      ]
    },
    {
      "cell_type": "code",
      "source": [
        "import os\n",
        "\n",
        "# Get the value of the HOME environment variable\n",
        "home_dir = os.getenv(\"HOME\")\n",
        "print(f\"Home directory: {home_dir}\")\n",
        "\n",
        "# Get the value of a non-existent variable with a default value\n",
        "api_key = os.getenv(\"API_KEY\", \"default_key\")\n",
        "print(f\"API key: {kishankaushik12353}\")\n"
      ],
      "metadata": {
        "colab": {
          "base_uri": "https://localhost:8080/",
          "height": 193
        },
        "id": "VoeN_btwpJBS",
        "outputId": "f4be2434-d94b-47b5-8c7c-6d9c079c8504"
      },
      "execution_count": 26,
      "outputs": [
        {
          "output_type": "stream",
          "name": "stdout",
          "text": [
            "Home directory: /root\n"
          ]
        },
        {
          "output_type": "error",
          "ename": "NameError",
          "evalue": "name 'kishankaushik12353' is not defined",
          "traceback": [
            "\u001b[0;31m---------------------------------------------------------------------------\u001b[0m",
            "\u001b[0;31mNameError\u001b[0m                                 Traceback (most recent call last)",
            "\u001b[0;32m<ipython-input-26-7644ba8797e6>\u001b[0m in \u001b[0;36m<cell line: 0>\u001b[0;34m()\u001b[0m\n\u001b[1;32m      7\u001b[0m \u001b[0;31m# Get the value of a non-existent variable with a default value\u001b[0m\u001b[0;34m\u001b[0m\u001b[0;34m\u001b[0m\u001b[0m\n\u001b[1;32m      8\u001b[0m \u001b[0mapi_key\u001b[0m \u001b[0;34m=\u001b[0m \u001b[0mos\u001b[0m\u001b[0;34m.\u001b[0m\u001b[0mgetenv\u001b[0m\u001b[0;34m(\u001b[0m\u001b[0;34m\"API_KEY\"\u001b[0m\u001b[0;34m,\u001b[0m \u001b[0;34m\"default_key\"\u001b[0m\u001b[0;34m)\u001b[0m\u001b[0;34m\u001b[0m\u001b[0;34m\u001b[0m\u001b[0m\n\u001b[0;32m----> 9\u001b[0;31m \u001b[0mprint\u001b[0m\u001b[0;34m(\u001b[0m\u001b[0;34mf\"API key: {kishankaushik12353}\"\u001b[0m\u001b[0;34m)\u001b[0m\u001b[0;34m\u001b[0m\u001b[0;34m\u001b[0m\u001b[0m\n\u001b[0m",
            "\u001b[0;31mNameError\u001b[0m: name 'kishankaushik12353' is not defined"
          ]
        }
      ]
    },
    {
      "source": [
        "import os\n",
        "\n",
        "# Get the value of the HOME environment variable\n",
        "home_dir = os.getenv(\"HOME\")\n",
        "print(f\"Home directory: {home_dir}\")\n",
        "\n",
        "# Get the value of a non-existent variable with a default value\n",
        "api_key = os.getenv(\"API_KEY\", \"default_key\")\n",
        "print(f\"API key: {'uma'}\") # Added quotes around kishankaushik12353"
      ],
      "cell_type": "code",
      "metadata": {
        "colab": {
          "base_uri": "https://localhost:8080/"
        },
        "id": "jyHYtF2rpf0s",
        "outputId": "b0c99e10-e5e9-4391-8638-1f9d21f4c5d8"
      },
      "execution_count": 28,
      "outputs": [
        {
          "output_type": "stream",
          "name": "stdout",
          "text": [
            "Home directory: /root\n",
            "API key: uma\n"
          ]
        }
      ]
    },
    {
      "cell_type": "code",
      "source": [],
      "metadata": {
        "id": "4_VuPRgKpanI"
      },
      "execution_count": null,
      "outputs": []
    }
  ]
}